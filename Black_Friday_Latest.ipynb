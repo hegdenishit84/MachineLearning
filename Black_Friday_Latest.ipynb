{
  "nbformat": 4,
  "nbformat_minor": 0,
  "metadata": {
    "kernelspec": {
      "display_name": "Python 3",
      "language": "python",
      "name": "python3"
    },
    "language_info": {
      "codemirror_mode": {
        "name": "ipython",
        "version": 3
      },
      "file_extension": ".py",
      "mimetype": "text/x-python",
      "name": "python",
      "nbconvert_exporter": "python",
      "pygments_lexer": "ipython3",
      "version": "3.7.4"
    },
    "colab": {
      "name": "Black Friday Latest.ipynb",
      "provenance": [],
      "include_colab_link": true
    },
    "accelerator": "GPU"
  },
  "cells": [
    {
      "cell_type": "markdown",
      "metadata": {
        "id": "view-in-github",
        "colab_type": "text"
      },
      "source": [
        "<a href=\"https://colab.research.google.com/github/hegdenishit84/MachineLearning/blob/master/Black_Friday_Latest.ipynb\" target=\"_parent\"><img src=\"https://colab.research.google.com/assets/colab-badge.svg\" alt=\"Open In Colab\"/></a>"
      ]
    },
    {
      "cell_type": "code",
      "metadata": {
        "id": "QrpWgTz-LGD-",
        "colab_type": "code",
        "outputId": "fce4b2a8-f43b-4bbf-87bd-4693f95749d2",
        "colab": {
          "base_uri": "https://localhost:8080/",
          "height": 70
        }
      },
      "source": [
        "import pandas as pd\n",
        "import numpy as np\n",
        "import matplotlib.pyplot as plt\n",
        "import seaborn as sns\n",
        "%matplotlib inline"
      ],
      "execution_count": 1,
      "outputs": [
        {
          "output_type": "stream",
          "text": [
            "/usr/local/lib/python3.6/dist-packages/statsmodels/tools/_testing.py:19: FutureWarning: pandas.util.testing is deprecated. Use the functions in the public API at pandas.testing instead.\n",
            "  import pandas.util.testing as tm\n"
          ],
          "name": "stderr"
        }
      ]
    },
    {
      "cell_type": "code",
      "metadata": {
        "id": "NPufQAb4LGEL",
        "colab_type": "code",
        "colab": {}
      },
      "source": [
        "url = 'https://raw.githubusercontent.com/hegdenishit84/MachineLearning/master/train.csv'\n",
        "df = pd.read_csv(url)"
      ],
      "execution_count": 0,
      "outputs": []
    },
    {
      "cell_type": "code",
      "metadata": {
        "id": "ZkvLulisLGES",
        "colab_type": "code",
        "outputId": "91a9d926-077d-4a46-d239-e9f1bc6ee3b0",
        "colab": {
          "base_uri": "https://localhost:8080/",
          "height": 282
        }
      },
      "source": [
        "df.head()"
      ],
      "execution_count": 3,
      "outputs": [
        {
          "output_type": "execute_result",
          "data": {
            "text/html": [
              "<div>\n",
              "<style scoped>\n",
              "    .dataframe tbody tr th:only-of-type {\n",
              "        vertical-align: middle;\n",
              "    }\n",
              "\n",
              "    .dataframe tbody tr th {\n",
              "        vertical-align: top;\n",
              "    }\n",
              "\n",
              "    .dataframe thead th {\n",
              "        text-align: right;\n",
              "    }\n",
              "</style>\n",
              "<table border=\"1\" class=\"dataframe\">\n",
              "  <thead>\n",
              "    <tr style=\"text-align: right;\">\n",
              "      <th></th>\n",
              "      <th>User_ID</th>\n",
              "      <th>Product_ID</th>\n",
              "      <th>Gender</th>\n",
              "      <th>Age</th>\n",
              "      <th>Occupation</th>\n",
              "      <th>City_Category</th>\n",
              "      <th>Stay_In_Current_City_Years</th>\n",
              "      <th>Marital_Status</th>\n",
              "      <th>Product_Category_1</th>\n",
              "      <th>Product_Category_2</th>\n",
              "      <th>Product_Category_3</th>\n",
              "      <th>Purchase</th>\n",
              "    </tr>\n",
              "  </thead>\n",
              "  <tbody>\n",
              "    <tr>\n",
              "      <th>0</th>\n",
              "      <td>1000001</td>\n",
              "      <td>P00069042</td>\n",
              "      <td>F</td>\n",
              "      <td>0-17</td>\n",
              "      <td>10</td>\n",
              "      <td>A</td>\n",
              "      <td>2</td>\n",
              "      <td>0</td>\n",
              "      <td>3</td>\n",
              "      <td>NaN</td>\n",
              "      <td>NaN</td>\n",
              "      <td>8370</td>\n",
              "    </tr>\n",
              "    <tr>\n",
              "      <th>1</th>\n",
              "      <td>1000001</td>\n",
              "      <td>P00248942</td>\n",
              "      <td>F</td>\n",
              "      <td>0-17</td>\n",
              "      <td>10</td>\n",
              "      <td>A</td>\n",
              "      <td>2</td>\n",
              "      <td>0</td>\n",
              "      <td>1</td>\n",
              "      <td>6.0</td>\n",
              "      <td>14.0</td>\n",
              "      <td>15200</td>\n",
              "    </tr>\n",
              "    <tr>\n",
              "      <th>2</th>\n",
              "      <td>1000001</td>\n",
              "      <td>P00087842</td>\n",
              "      <td>F</td>\n",
              "      <td>0-17</td>\n",
              "      <td>10</td>\n",
              "      <td>A</td>\n",
              "      <td>2</td>\n",
              "      <td>0</td>\n",
              "      <td>12</td>\n",
              "      <td>NaN</td>\n",
              "      <td>NaN</td>\n",
              "      <td>1422</td>\n",
              "    </tr>\n",
              "    <tr>\n",
              "      <th>3</th>\n",
              "      <td>1000001</td>\n",
              "      <td>P00085442</td>\n",
              "      <td>F</td>\n",
              "      <td>0-17</td>\n",
              "      <td>10</td>\n",
              "      <td>A</td>\n",
              "      <td>2</td>\n",
              "      <td>0</td>\n",
              "      <td>12</td>\n",
              "      <td>14.0</td>\n",
              "      <td>NaN</td>\n",
              "      <td>1057</td>\n",
              "    </tr>\n",
              "    <tr>\n",
              "      <th>4</th>\n",
              "      <td>1000002</td>\n",
              "      <td>P00285442</td>\n",
              "      <td>M</td>\n",
              "      <td>55+</td>\n",
              "      <td>16</td>\n",
              "      <td>C</td>\n",
              "      <td>4+</td>\n",
              "      <td>0</td>\n",
              "      <td>8</td>\n",
              "      <td>NaN</td>\n",
              "      <td>NaN</td>\n",
              "      <td>7969</td>\n",
              "    </tr>\n",
              "  </tbody>\n",
              "</table>\n",
              "</div>"
            ],
            "text/plain": [
              "   User_ID Product_ID Gender  ... Product_Category_2  Product_Category_3 Purchase\n",
              "0  1000001  P00069042      F  ...                NaN                 NaN     8370\n",
              "1  1000001  P00248942      F  ...                6.0                14.0    15200\n",
              "2  1000001  P00087842      F  ...                NaN                 NaN     1422\n",
              "3  1000001  P00085442      F  ...               14.0                 NaN     1057\n",
              "4  1000002  P00285442      M  ...                NaN                 NaN     7969\n",
              "\n",
              "[5 rows x 12 columns]"
            ]
          },
          "metadata": {
            "tags": []
          },
          "execution_count": 3
        }
      ]
    },
    {
      "cell_type": "code",
      "metadata": {
        "id": "PAc7x4M5LGEa",
        "colab_type": "code",
        "outputId": "28ad538e-a37d-4549-89f0-abf229190d09",
        "colab": {
          "base_uri": "https://localhost:8080/",
          "height": 336
        }
      },
      "source": [
        "df.info()"
      ],
      "execution_count": 4,
      "outputs": [
        {
          "output_type": "stream",
          "text": [
            "<class 'pandas.core.frame.DataFrame'>\n",
            "RangeIndex: 550068 entries, 0 to 550067\n",
            "Data columns (total 12 columns):\n",
            " #   Column                      Non-Null Count   Dtype  \n",
            "---  ------                      --------------   -----  \n",
            " 0   User_ID                     550068 non-null  int64  \n",
            " 1   Product_ID                  550068 non-null  object \n",
            " 2   Gender                      550068 non-null  object \n",
            " 3   Age                         550068 non-null  object \n",
            " 4   Occupation                  550068 non-null  int64  \n",
            " 5   City_Category               550068 non-null  object \n",
            " 6   Stay_In_Current_City_Years  550068 non-null  object \n",
            " 7   Marital_Status              550068 non-null  int64  \n",
            " 8   Product_Category_1          550068 non-null  int64  \n",
            " 9   Product_Category_2          376430 non-null  float64\n",
            " 10  Product_Category_3          166821 non-null  float64\n",
            " 11  Purchase                    550068 non-null  int64  \n",
            "dtypes: float64(2), int64(5), object(5)\n",
            "memory usage: 50.4+ MB\n"
          ],
          "name": "stdout"
        }
      ]
    },
    {
      "cell_type": "code",
      "metadata": {
        "id": "EvmFmyNoLGEi",
        "colab_type": "code",
        "colab": {}
      },
      "source": [
        "#convert Gender \n",
        "df['Gender'] = df['Gender'].map({'M':0, 'F':1})"
      ],
      "execution_count": 0,
      "outputs": []
    },
    {
      "cell_type": "code",
      "metadata": {
        "id": "j_MKPr_wLGEp",
        "colab_type": "code",
        "outputId": "a8424b61-e49b-4c6a-bd8b-3f5b78c48caa",
        "colab": {
          "base_uri": "https://localhost:8080/",
          "height": 336
        }
      },
      "source": [
        "df.info()"
      ],
      "execution_count": 6,
      "outputs": [
        {
          "output_type": "stream",
          "text": [
            "<class 'pandas.core.frame.DataFrame'>\n",
            "RangeIndex: 550068 entries, 0 to 550067\n",
            "Data columns (total 12 columns):\n",
            " #   Column                      Non-Null Count   Dtype  \n",
            "---  ------                      --------------   -----  \n",
            " 0   User_ID                     550068 non-null  int64  \n",
            " 1   Product_ID                  550068 non-null  object \n",
            " 2   Gender                      550068 non-null  int64  \n",
            " 3   Age                         550068 non-null  object \n",
            " 4   Occupation                  550068 non-null  int64  \n",
            " 5   City_Category               550068 non-null  object \n",
            " 6   Stay_In_Current_City_Years  550068 non-null  object \n",
            " 7   Marital_Status              550068 non-null  int64  \n",
            " 8   Product_Category_1          550068 non-null  int64  \n",
            " 9   Product_Category_2          376430 non-null  float64\n",
            " 10  Product_Category_3          166821 non-null  float64\n",
            " 11  Purchase                    550068 non-null  int64  \n",
            "dtypes: float64(2), int64(6), object(4)\n",
            "memory usage: 50.4+ MB\n"
          ],
          "name": "stdout"
        }
      ]
    },
    {
      "cell_type": "code",
      "metadata": {
        "id": "U2sl9si-LGEw",
        "colab_type": "code",
        "outputId": "57f5324d-d818-43b4-d479-1cb679666373",
        "colab": {
          "base_uri": "https://localhost:8080/",
          "height": 296
        }
      },
      "source": [
        "sns.countplot(x='Age', data=df,order=sorted(df['Age'].unique()))"
      ],
      "execution_count": 7,
      "outputs": [
        {
          "output_type": "execute_result",
          "data": {
            "text/plain": [
              "<matplotlib.axes._subplots.AxesSubplot at 0x7fede2b59780>"
            ]
          },
          "metadata": {
            "tags": []
          },
          "execution_count": 7
        },
        {
          "output_type": "display_data",
          "data": {
            "image/png": "[encoded data removed]",
            "text/plain": [
              "<Figure size 432x288 with 1 Axes>"
            ]
          },
          "metadata": {
            "tags": [],
            "needs_background": "light"
          }
        }
      ]
    },
    {
      "cell_type": "code",
      "metadata": {
        "id": "MehWnnavLGE4",
        "colab_type": "code",
        "outputId": "f8838c08-e1a1-4053-a8b6-35e18c4f6605",
        "colab": {
          "base_uri": "https://localhost:8080/",
          "height": 297
        }
      },
      "source": [
        "sns.countplot(x='City_Category', data=df, hue='Marital_Status',order=sorted(df['City_Category'].unique()))"
      ],
      "execution_count": 8,
      "outputs": [
        {
          "output_type": "execute_result",
          "data": {
            "text/plain": [
              "<matplotlib.axes._subplots.AxesSubplot at 0x7fede2a8e0f0>"
            ]
          },
          "metadata": {
            "tags": []
          },
          "execution_count": 8
        },
        {
          "output_type": "display_data",
          "data": {
            "image/png": "[encoded data removed]",
            "text/plain": [
              "<Figure size 432x288 with 1 Axes>"
            ]
          },
          "metadata": {
            "tags": [],
            "needs_background": "light"
          }
        }
      ]
    },
    {
      "cell_type": "code",
      "metadata": {
        "id": "GPg2AfyILGE_",
        "colab_type": "code",
        "outputId": "1e1d40a2-5d0f-45a0-adb1-76be33d43348",
        "colab": {
          "base_uri": "https://localhost:8080/",
          "height": 514
        }
      },
      "source": [
        "plt.figure(figsize=(12,8))\n",
        "sns.countplot(x='Occupation', data=df,order=sorted(df['Occupation'].unique()))"
      ],
      "execution_count": 9,
      "outputs": [
        {
          "output_type": "execute_result",
          "data": {
            "text/plain": [
              "<matplotlib.axes._subplots.AxesSubplot at 0x7fee0b085630>"
            ]
          },
          "metadata": {
            "tags": []
          },
          "execution_count": 9
        },
        {
          "output_type": "display_data",
          "data": {
            "image/png": "[encoded data removed]",
            "text/plain": [
              "<Figure size 864x576 with 1 Axes>"
            ]
          },
          "metadata": {
            "tags": [],
            "needs_background": "light"
          }
        }
      ]
    },
    {
      "cell_type": "code",
      "metadata": {
        "id": "kFAG3r77LGFE",
        "colab_type": "code",
        "outputId": "dfb24a26-9981-45ac-d93b-fc4a61ef85c9",
        "colab": {
          "base_uri": "https://localhost:8080/",
          "height": 143
        }
      },
      "source": [
        "df[df['Product_Category_1'] == 20].head(2)"
      ],
      "execution_count": 10,
      "outputs": [
        {
          "output_type": "execute_result",
          "data": {
            "text/html": [
              "<div>\n",
              "<style scoped>\n",
              "    .dataframe tbody tr th:only-of-type {\n",
              "        vertical-align: middle;\n",
              "    }\n",
              "\n",
              "    .dataframe tbody tr th {\n",
              "        vertical-align: top;\n",
              "    }\n",
              "\n",
              "    .dataframe thead th {\n",
              "        text-align: right;\n",
              "    }\n",
              "</style>\n",
              "<table border=\"1\" class=\"dataframe\">\n",
              "  <thead>\n",
              "    <tr style=\"text-align: right;\">\n",
              "      <th></th>\n",
              "      <th>User_ID</th>\n",
              "      <th>Product_ID</th>\n",
              "      <th>Gender</th>\n",
              "      <th>Age</th>\n",
              "      <th>Occupation</th>\n",
              "      <th>City_Category</th>\n",
              "      <th>Stay_In_Current_City_Years</th>\n",
              "      <th>Marital_Status</th>\n",
              "      <th>Product_Category_1</th>\n",
              "      <th>Product_Category_2</th>\n",
              "      <th>Product_Category_3</th>\n",
              "      <th>Purchase</th>\n",
              "    </tr>\n",
              "  </thead>\n",
              "  <tbody>\n",
              "    <tr>\n",
              "      <th>545915</th>\n",
              "      <td>1000001</td>\n",
              "      <td>P00375436</td>\n",
              "      <td>1</td>\n",
              "      <td>0-17</td>\n",
              "      <td>10</td>\n",
              "      <td>A</td>\n",
              "      <td>2</td>\n",
              "      <td>0</td>\n",
              "      <td>20</td>\n",
              "      <td>NaN</td>\n",
              "      <td>NaN</td>\n",
              "      <td>612</td>\n",
              "    </tr>\n",
              "    <tr>\n",
              "      <th>545916</th>\n",
              "      <td>1000002</td>\n",
              "      <td>P00372445</td>\n",
              "      <td>0</td>\n",
              "      <td>55+</td>\n",
              "      <td>16</td>\n",
              "      <td>C</td>\n",
              "      <td>4+</td>\n",
              "      <td>0</td>\n",
              "      <td>20</td>\n",
              "      <td>NaN</td>\n",
              "      <td>NaN</td>\n",
              "      <td>119</td>\n",
              "    </tr>\n",
              "  </tbody>\n",
              "</table>\n",
              "</div>"
            ],
            "text/plain": [
              "        User_ID Product_ID  ...  Product_Category_3 Purchase\n",
              "545915  1000001  P00375436  ...                 NaN      612\n",
              "545916  1000002  P00372445  ...                 NaN      119\n",
              "\n",
              "[2 rows x 12 columns]"
            ]
          },
          "metadata": {
            "tags": []
          },
          "execution_count": 10
        }
      ]
    },
    {
      "cell_type": "code",
      "metadata": {
        "id": "0zz_CA0SLGFJ",
        "colab_type": "code",
        "outputId": "e6e6ce86-8ae2-4549-a1bb-56c26b576b78",
        "colab": {
          "base_uri": "https://localhost:8080/",
          "height": 386
        }
      },
      "source": [
        "df['Product_Category_2'].isnull().groupby(df['Product_Category_1']).mean() * 100"
      ],
      "execution_count": 11,
      "outputs": [
        {
          "output_type": "execute_result",
          "data": {
            "text/plain": [
              "Product_Category_1\n",
              "1       4.700167\n",
              "2       3.897083\n",
              "3       1.182407\n",
              "4       1.216711\n",
              "5      42.204157\n",
              "6       4.851950\n",
              "7      91.937651\n",
              "8      53.333333\n",
              "9       0.243902\n",
              "10      8.897561\n",
              "11     50.936715\n",
              "12     45.021535\n",
              "13     11.281312\n",
              "14     72.422850\n",
              "15     45.087440\n",
              "16    100.000000\n",
              "17    100.000000\n",
              "18    100.000000\n",
              "19    100.000000\n",
              "20    100.000000\n",
              "Name: Product_Category_2, dtype: float64"
            ]
          },
          "metadata": {
            "tags": []
          },
          "execution_count": 11
        }
      ]
    },
    {
      "cell_type": "code",
      "metadata": {
        "id": "7qZ8DXM7LGFQ",
        "colab_type": "code",
        "outputId": "41c99bbd-910d-417f-d6a8-221654990b49",
        "colab": {
          "base_uri": "https://localhost:8080/",
          "height": 386
        }
      },
      "source": [
        "df['Product_Category_3'].isnull().groupby(df['Product_Category_1']).mean() *100"
      ],
      "execution_count": 12,
      "outputs": [
        {
          "output_type": "execute_result",
          "data": {
            "text/plain": [
              "Product_Category_1\n",
              "1      35.073872\n",
              "2      31.658565\n",
              "3      38.346609\n",
              "4      54.488216\n",
              "5      87.404345\n",
              "6      58.966090\n",
              "7     100.000000\n",
              "8      92.040377\n",
              "9     100.000000\n",
              "10     65.756098\n",
              "11     91.925722\n",
              "12     95.971624\n",
              "13     80.969544\n",
              "14    100.000000\n",
              "15     97.599364\n",
              "16    100.000000\n",
              "17    100.000000\n",
              "18    100.000000\n",
              "19    100.000000\n",
              "20    100.000000\n",
              "Name: Product_Category_3, dtype: float64"
            ]
          },
          "metadata": {
            "tags": []
          },
          "execution_count": 12
        }
      ]
    },
    {
      "cell_type": "code",
      "metadata": {
        "id": "iBYAgKisLGFU",
        "colab_type": "code",
        "outputId": "97ba4ae8-0adf-43df-8562-454ee5a534a0",
        "colab": {
          "base_uri": "https://localhost:8080/",
          "height": 84
        }
      },
      "source": [
        "print(sorted(df['Age'].unique()))\n",
        "print(sorted(df['Stay_In_Current_City_Years'].unique()))\n",
        "print(sorted(df['City_Category'].unique()))\n",
        "print(sorted(df['Occupation'].unique()))"
      ],
      "execution_count": 13,
      "outputs": [
        {
          "output_type": "stream",
          "text": [
            "['0-17', '18-25', '26-35', '36-45', '46-50', '51-55', '55+']\n",
            "['0', '1', '2', '3', '4+']\n",
            "['A', 'B', 'C']\n",
            "[0, 1, 2, 3, 4, 5, 6, 7, 8, 9, 10, 11, 12, 13, 14, 15, 16, 17, 18, 19, 20]\n"
          ],
          "name": "stdout"
        }
      ]
    },
    {
      "cell_type": "code",
      "metadata": {
        "id": "D4XKJpDrLGFX",
        "colab_type": "code",
        "outputId": "a1e93e92-c866-42a3-d15a-8939c0af358e",
        "colab": {
          "base_uri": "https://localhost:8080/",
          "height": 151
        }
      },
      "source": [
        "df['Age'].value_counts()"
      ],
      "execution_count": 14,
      "outputs": [
        {
          "output_type": "execute_result",
          "data": {
            "text/plain": [
              "26-35    219587\n",
              "36-45    110013\n",
              "18-25     99660\n",
              "46-50     45701\n",
              "51-55     38501\n",
              "55+       21504\n",
              "0-17      15102\n",
              "Name: Age, dtype: int64"
            ]
          },
          "metadata": {
            "tags": []
          },
          "execution_count": 14
        }
      ]
    },
    {
      "cell_type": "code",
      "metadata": {
        "id": "yZXBs31GLGFf",
        "colab_type": "code",
        "outputId": "d8dd4ffb-44ca-4e53-df0e-8e6ee1c70fee",
        "colab": {
          "base_uri": "https://localhost:8080/",
          "height": 515
        }
      },
      "source": [
        "plt.figure(figsize=(10,8))\n",
        "sns.boxplot(x=\"Occupation\", y=\"Purchase\", data=df,)"
      ],
      "execution_count": 15,
      "outputs": [
        {
          "output_type": "execute_result",
          "data": {
            "text/plain": [
              "<matplotlib.axes._subplots.AxesSubplot at 0x7fede25dd358>"
            ]
          },
          "metadata": {
            "tags": []
          },
          "execution_count": 15
        },
        {
          "output_type": "display_data",
          "data": {
            "image/png": "[encoded data removed]",
            "text/plain": [
              "<Figure size 720x576 with 1 Axes>"
            ]
          },
          "metadata": {
            "tags": [],
            "needs_background": "light"
          }
        }
      ]
    },
    {
      "cell_type": "code",
      "metadata": {
        "id": "_OJKBhoiLGFm",
        "colab_type": "code",
        "colab": {}
      },
      "source": [
        "modified_df = pd.get_dummies(df,drop_first=True,columns=['Age','Stay_In_Current_City_Years','City_Category','Occupation'])\n"
      ],
      "execution_count": 0,
      "outputs": []
    },
    {
      "cell_type": "code",
      "metadata": {
        "id": "VPp4Fu_oLGFo",
        "colab_type": "code",
        "colab": {}
      },
      "source": [
        ""
      ],
      "execution_count": 0,
      "outputs": []
    },
    {
      "cell_type": "code",
      "metadata": {
        "id": "0J-E1PDpLGFs",
        "colab_type": "code",
        "outputId": "27af2cca-a20d-4a36-95a4-d7c167d77817",
        "colab": {
          "base_uri": "https://localhost:8080/",
          "height": 806
        }
      },
      "source": [
        "modified_df.info()"
      ],
      "execution_count": 17,
      "outputs": [
        {
          "output_type": "stream",
          "text": [
            "<class 'pandas.core.frame.DataFrame'>\n",
            "RangeIndex: 550068 entries, 0 to 550067\n",
            "Data columns (total 40 columns):\n",
            " #   Column                         Non-Null Count   Dtype  \n",
            "---  ------                         --------------   -----  \n",
            " 0   User_ID                        550068 non-null  int64  \n",
            " 1   Product_ID                     550068 non-null  object \n",
            " 2   Gender                         550068 non-null  int64  \n",
            " 3   Marital_Status                 550068 non-null  int64  \n",
            " 4   Product_Category_1             550068 non-null  int64  \n",
            " 5   Product_Category_2             376430 non-null  float64\n",
            " 6   Product_Category_3             166821 non-null  float64\n",
            " 7   Purchase                       550068 non-null  int64  \n",
            " 8   Age_18-25                      550068 non-null  uint8  \n",
            " 9   Age_26-35                      550068 non-null  uint8  \n",
            " 10  Age_36-45                      550068 non-null  uint8  \n",
            " 11  Age_46-50                      550068 non-null  uint8  \n",
            " 12  Age_51-55                      550068 non-null  uint8  \n",
            " 13  Age_55+                        550068 non-null  uint8  \n",
            " 14  Stay_In_Current_City_Years_1   550068 non-null  uint8  \n",
            " 15  Stay_In_Current_City_Years_2   550068 non-null  uint8  \n",
            " 16  Stay_In_Current_City_Years_3   550068 non-null  uint8  \n",
            " 17  Stay_In_Current_City_Years_4+  550068 non-null  uint8  \n",
            " 18  City_Category_B                550068 non-null  uint8  \n",
            " 19  City_Category_C                550068 non-null  uint8  \n",
            " 20  Occupation_1                   550068 non-null  uint8  \n",
            " 21  Occupation_2                   550068 non-null  uint8  \n",
            " 22  Occupation_3                   550068 non-null  uint8  \n",
            " 23  Occupation_4                   550068 non-null  uint8  \n",
            " 24  Occupation_5                   550068 non-null  uint8  \n",
            " 25  Occupation_6                   550068 non-null  uint8  \n",
            " 26  Occupation_7                   550068 non-null  uint8  \n",
            " 27  Occupation_8                   550068 non-null  uint8  \n",
            " 28  Occupation_9                   550068 non-null  uint8  \n",
            " 29  Occupation_10                  550068 non-null  uint8  \n",
            " 30  Occupation_11                  550068 non-null  uint8  \n",
            " 31  Occupation_12                  550068 non-null  uint8  \n",
            " 32  Occupation_13                  550068 non-null  uint8  \n",
            " 33  Occupation_14                  550068 non-null  uint8  \n",
            " 34  Occupation_15                  550068 non-null  uint8  \n",
            " 35  Occupation_16                  550068 non-null  uint8  \n",
            " 36  Occupation_17                  550068 non-null  uint8  \n",
            " 37  Occupation_18                  550068 non-null  uint8  \n",
            " 38  Occupation_19                  550068 non-null  uint8  \n",
            " 39  Occupation_20                  550068 non-null  uint8  \n",
            "dtypes: float64(2), int64(5), object(1), uint8(32)\n",
            "memory usage: 50.4+ MB\n"
          ],
          "name": "stdout"
        }
      ]
    },
    {
      "cell_type": "code",
      "metadata": {
        "id": "E_TMuRZTLGF2",
        "colab_type": "code",
        "outputId": "6e3ba67b-14de-431a-eeee-efca2d39323b",
        "colab": {
          "base_uri": "https://localhost:8080/",
          "height": 336
        }
      },
      "source": [
        "df.info()"
      ],
      "execution_count": 18,
      "outputs": [
        {
          "output_type": "stream",
          "text": [
            "<class 'pandas.core.frame.DataFrame'>\n",
            "RangeIndex: 550068 entries, 0 to 550067\n",
            "Data columns (total 12 columns):\n",
            " #   Column                      Non-Null Count   Dtype  \n",
            "---  ------                      --------------   -----  \n",
            " 0   User_ID                     550068 non-null  int64  \n",
            " 1   Product_ID                  550068 non-null  object \n",
            " 2   Gender                      550068 non-null  int64  \n",
            " 3   Age                         550068 non-null  object \n",
            " 4   Occupation                  550068 non-null  int64  \n",
            " 5   City_Category               550068 non-null  object \n",
            " 6   Stay_In_Current_City_Years  550068 non-null  object \n",
            " 7   Marital_Status              550068 non-null  int64  \n",
            " 8   Product_Category_1          550068 non-null  int64  \n",
            " 9   Product_Category_2          376430 non-null  float64\n",
            " 10  Product_Category_3          166821 non-null  float64\n",
            " 11  Purchase                    550068 non-null  int64  \n",
            "dtypes: float64(2), int64(6), object(4)\n",
            "memory usage: 50.4+ MB\n"
          ],
          "name": "stdout"
        }
      ]
    },
    {
      "cell_type": "code",
      "metadata": {
        "id": "Va6HAJozLGF6",
        "colab_type": "code",
        "colab": {}
      },
      "source": [
        "def remove_prefix(product_id):\n",
        "    if(product_id.startswith(\"P00\")):\n",
        "        return product_id[3:]\n",
        "    \n",
        "\n",
        "modified_df['Product_ID'] = modified_df['Product_ID'].apply(lambda x : remove_prefix(x))"
      ],
      "execution_count": 0,
      "outputs": []
    },
    {
      "cell_type": "code",
      "metadata": {
        "id": "bhiZ0xx2LGF_",
        "colab_type": "code",
        "colab": {}
      },
      "source": [
        "modified_df['Product_ID'] = pd.to_numeric(modified_df['Product_ID'])"
      ],
      "execution_count": 0,
      "outputs": []
    },
    {
      "cell_type": "code",
      "metadata": {
        "id": "yopzZDMXLGGF",
        "colab_type": "code",
        "outputId": "ed0c750e-b3a2-46d6-90ec-9b22de49fb5e",
        "colab": {
          "base_uri": "https://localhost:8080/",
          "height": 34
        }
      },
      "source": [
        "modified_df['Product_ID'].nunique()"
      ],
      "execution_count": 21,
      "outputs": [
        {
          "output_type": "execute_result",
          "data": {
            "text/plain": [
              "3631"
            ]
          },
          "metadata": {
            "tags": []
          },
          "execution_count": 21
        }
      ]
    },
    {
      "cell_type": "code",
      "metadata": {
        "id": "l_DFf1-4LGGM",
        "colab_type": "code",
        "colab": {}
      },
      "source": [
        "modified_df = modified_df.drop(['Product_Category_2', 'Product_Category_3'], axis=1)"
      ],
      "execution_count": 0,
      "outputs": []
    },
    {
      "cell_type": "code",
      "metadata": {
        "id": "b4LtWjpDLGGT",
        "colab_type": "code",
        "colab": {}
      },
      "source": [
        ""
      ],
      "execution_count": 0,
      "outputs": []
    },
    {
      "cell_type": "code",
      "metadata": {
        "id": "CZg5rVltLGGZ",
        "colab_type": "code",
        "colab": {}
      },
      "source": [
        ""
      ],
      "execution_count": 0,
      "outputs": []
    },
    {
      "cell_type": "code",
      "metadata": {
        "id": "0Qxvt9-FLGGj",
        "colab_type": "code",
        "outputId": "e646420e-34a2-4c77-f49a-22fa6a956092",
        "colab": {
          "base_uri": "https://localhost:8080/",
          "height": 672
        }
      },
      "source": [
        "modified_df.corr()['Purchase']"
      ],
      "execution_count": 23,
      "outputs": [
        {
          "output_type": "execute_result",
          "data": {
            "text/plain": [
              "User_ID                          0.004716\n",
              "Product_ID                      -0.103961\n",
              "Gender                          -0.060346\n",
              "Marital_Status                  -0.000463\n",
              "Product_Category_1              -0.343703\n",
              "Purchase                         1.000000\n",
              "Age_18-25                       -0.008831\n",
              "Age_26-35                       -0.001830\n",
              "Age_36-45                        0.006707\n",
              "Age_46-50                       -0.003317\n",
              "Age_51-55                        0.014792\n",
              "Age_55+                          0.002904\n",
              "Stay_In_Current_City_Years_1    -0.002030\n",
              "Stay_In_Current_City_Years_2     0.005358\n",
              "Stay_In_Current_City_Years_3     0.002090\n",
              "Stay_In_Current_City_Years_4+    0.000988\n",
              "City_Category_B                 -0.019098\n",
              "City_Category_C                  0.061012\n",
              "Occupation_1                    -0.019005\n",
              "Occupation_2                    -0.013975\n",
              "Occupation_3                    -0.003095\n",
              "Occupation_4                    -0.003872\n",
              "Occupation_5                     0.002072\n",
              "Occupation_6                    -0.000290\n",
              "Occupation_7                     0.011176\n",
              "Occupation_8                     0.002839\n",
              "Occupation_9                    -0.013409\n",
              "Occupation_10                   -0.009409\n",
              "Occupation_11                   -0.001464\n",
              "Occupation_12                    0.025995\n",
              "Occupation_13                    0.001007\n",
              "Occupation_14                    0.010772\n",
              "Occupation_15                    0.015416\n",
              "Occupation_16                    0.005713\n",
              "Occupation_17                    0.031099\n",
              "Occupation_18                   -0.002073\n",
              "Occupation_19                   -0.013769\n",
              "Occupation_20                   -0.021693\n",
              "Name: Purchase, dtype: float64"
            ]
          },
          "metadata": {
            "tags": []
          },
          "execution_count": 23
        }
      ]
    },
    {
      "cell_type": "code",
      "metadata": {
        "id": "4t2ApvDfLGGr",
        "colab_type": "code",
        "colab": {}
      },
      "source": [
        "#%% Prepare Data\n",
        "from sklearn.model_selection import train_test_split\n",
        "\n",
        "# Split-out validation dataset\n",
        "X = modified_df.drop('Purchase',axis=1).values\n",
        "y = modified_df['Purchase'].values\n",
        "\n",
        "X_train, X_test, Y_train, Y_test = train_test_split(X, y, test_size=0.25, random_state=101)"
      ],
      "execution_count": 0,
      "outputs": []
    },
    {
      "cell_type": "code",
      "metadata": {
        "id": "t-D0SuJ0LGGu",
        "colab_type": "code",
        "colab": {}
      },
      "source": [
        "from sklearn.preprocessing import StandardScaler"
      ],
      "execution_count": 0,
      "outputs": []
    },
    {
      "cell_type": "code",
      "metadata": {
        "id": "9pS_XDnqLGGw",
        "colab_type": "code",
        "colab": {}
      },
      "source": [
        "scaler = StandardScaler()"
      ],
      "execution_count": 0,
      "outputs": []
    },
    {
      "cell_type": "code",
      "metadata": {
        "id": "O_OmAfu1LGGy",
        "colab_type": "code",
        "colab": {}
      },
      "source": [
        "X_train = scaler.fit_transform(X_train)"
      ],
      "execution_count": 0,
      "outputs": []
    },
    {
      "cell_type": "code",
      "metadata": {
        "id": "2Wex5o4kLGG3",
        "colab_type": "code",
        "colab": {}
      },
      "source": [
        "X_test = scaler.transform(X_test)"
      ],
      "execution_count": 0,
      "outputs": []
    },
    {
      "cell_type": "code",
      "metadata": {
        "id": "lF3kPudzLGG6",
        "colab_type": "code",
        "colab": {}
      },
      "source": [
        "from sklearn.model_selection import KFold\n",
        "from sklearn.model_selection import cross_val_score\n",
        "from sklearn.model_selection import GridSearchCV\n",
        "from sklearn.linear_model import LinearRegression\n",
        "from sklearn.linear_model import Lasso\n",
        "from sklearn.linear_model import ElasticNet\n",
        "from sklearn.tree import DecisionTreeRegressor\n",
        "from sklearn.neighbors import KNeighborsRegressor\n",
        "from sklearn.svm import SVR\n",
        "from sklearn.pipeline import Pipeline\n",
        "from sklearn.ensemble import RandomForestRegressor\n",
        "from sklearn.ensemble import GradientBoostingRegressor\n",
        "from sklearn.ensemble import ExtraTreesRegressor\n",
        "from sklearn.ensemble import AdaBoostRegressor\n",
        "from sklearn.metrics import mean_squared_error\n",
        "from sklearn.metrics import mean_absolute_error\n",
        "#%% Spot Check Algorithms\n",
        "#models = []\n",
        "#models.append(('LR', LinearRegression()))\n",
        "#models.append(('LASSO', Lasso()))\n",
        "#models.append(('EN', ElasticNet()))"
      ],
      "execution_count": 0,
      "outputs": []
    },
    {
      "cell_type": "code",
      "metadata": {
        "id": "tQR9T9LnLGG9",
        "colab_type": "code",
        "colab": {}
      },
      "source": [
        "#%% evaluate each model in turn\n",
        "#from sklearn.model_selection import KFold\n",
        "#from sklearn.model_selection import cross_val_score\n",
        "#from math import sqrt\n",
        "\n",
        "#results = []\n",
        "#names = []\n",
        "#for name, model in models:\n",
        "#    kfold = KFold(n_splits=5, shuffle=True, random_state=5)\n",
        "#    cv_results = cross_val_score(model, X_train, Y_train, cv=kfold, \\\n",
        "#                                 scoring='neg_mean_squared_error') \n",
        "#    results.append(cv_results)\n",
        "#    names.append(name)\n",
        "#    \n",
        "#    rmse = np.sqrt(cv_results.mean()*-1)\n",
        "#    msg = \"%s: %f (%f)\" % (name, rmse, cv_results.std())\n",
        "#    print(msg)\n",
        "#     print(sorted(cv_results, reverse=True))"
      ],
      "execution_count": 0,
      "outputs": []
    },
    {
      "cell_type": "code",
      "metadata": {
        "id": "hksAvUCe_ou-",
        "colab_type": "code",
        "colab": {}
      },
      "source": [
        ""
      ],
      "execution_count": 0,
      "outputs": []
    },
    {
      "cell_type": "code",
      "metadata": {
        "id": "gdvuAGlhLGHA",
        "colab_type": "code",
        "colab": {}
      },
      "source": [
        "#ensembles = []\n",
        "#ensembles.append(('AB', AdaBoostRegressor()))\n",
        "#ensembles.append(('GBM', GradientBoostingRegressor()))\n",
        "#ensembles.append(('RF', RandomForestRegressor()))\n",
        "#ensembles.append(('ET', ExtraTreesRegressor()))\n",
        "#results = []\n",
        "#names = []\n",
        "#for name, model in ensembles:\n",
        "#    kfold = KFold(n_splits=5, shuffle=True, random_state=5)\n",
        "#    cv_results = cross_val_score(model, X_train, Y_train,cv=kfold, scoring='neg_mean_squared_error')\n",
        "#    results.append(cv_results)\n",
        "#    names.append(name)\n",
        "#    rmse = np.sqrt(cv_results.mean()*-1)\n",
        "#    msg = \"%s: %f (%f)\" % (name, rmse, cv_results.std())\n",
        "#    print(msg)\n",
        "\n",
        "\n"
      ],
      "execution_count": 0,
      "outputs": []
    },
    {
      "cell_type": "code",
      "metadata": {
        "id": "xJxo8w79LGHD",
        "colab_type": "code",
        "colab": {}
      },
      "source": [
        "#%% Tune scaled GBM\n",
        "#param_grid = dict(n_estimators=np.array([50,100,150,200,250,300,350,400,500,600,700,800]))\n",
        "                                            \n",
        "#model = GradientBoostingRegressor(random_state=5)\n",
        "#kfold = KFold(n_splits=5, shuffle=True, random_state=5)\n",
        "#grid = GridSearchCV(estimator=model, param_grid=param_grid, scoring='neg_mean_squared_error', cv=kfold)\n",
        "#grid_result = grid.fit(X_train, Y_train)\n",
        "\n",
        "#print(\"Best: %f using %s\" % (grid_result.best_score_,grid_result.best_params_))\n",
        "\n",
        "#means = grid_result.cv_results_['mean_test_score']\n",
        "#stds = grid_result.cv_results_['std_test_score']\n",
        "#params = grid_result.cv_results_['params']\n",
        "#for mean, stdev, param in zip(means, stds, params):\n",
        "#    print(\"%f (%f) with: %r\" % (mean, stdev, param))"
      ],
      "execution_count": 0,
      "outputs": []
    },
    {
      "cell_type": "code",
      "metadata": {
        "id": "StpiPQjQLGHG",
        "colab_type": "code",
        "colab": {
          "base_uri": "https://localhost:8080/",
          "height": 168
        },
        "outputId": "0a5a31a4-d1d4-4b73-ae0f-d38a90fb6fb9"
      },
      "source": [
        "model = GradientBoostingRegressor(random_state=5, n_estimators=800)\n",
        "model.fit(X_train, Y_train)"
      ],
      "execution_count": 30,
      "outputs": [
        {
          "output_type": "execute_result",
          "data": {
            "text/plain": [
              "GradientBoostingRegressor(alpha=0.9, ccp_alpha=0.0, criterion='friedman_mse',\n",
              "                          init=None, learning_rate=0.1, loss='ls', max_depth=3,\n",
              "                          max_features=None, max_leaf_nodes=None,\n",
              "                          min_impurity_decrease=0.0, min_impurity_split=None,\n",
              "                          min_samples_leaf=1, min_samples_split=2,\n",
              "                          min_weight_fraction_leaf=0.0, n_estimators=800,\n",
              "                          n_iter_no_change=None, presort='deprecated',\n",
              "                          random_state=5, subsample=1.0, tol=0.0001,\n",
              "                          validation_fraction=0.1, verbose=0, warm_start=False)"
            ]
          },
          "metadata": {
            "tags": []
          },
          "execution_count": 30
        }
      ]
    },
    {
      "cell_type": "code",
      "metadata": {
        "id": "YHf8q7XdYISZ",
        "colab_type": "code",
        "colab": {
          "base_uri": "https://localhost:8080/",
          "height": 50
        },
        "outputId": "54a98219-aeb1-4b66-afd6-9decb98ea5ed"
      },
      "source": [
        "predictions = model.predict(X_train)\n",
        "print(mean_squared_error(Y_train, predictions))\n",
        "root_mean_squared_error = np.sqrt(mean_squared_error(Y_train, predictions))\n",
        "print(root_mean_squared_error)"
      ],
      "execution_count": 32,
      "outputs": [
        {
          "output_type": "stream",
          "text": [
            "7467563.787139275\n",
            "2732.6843555630926\n"
          ],
          "name": "stdout"
        }
      ]
    },
    {
      "cell_type": "code",
      "metadata": {
        "id": "YS878mtZYRYJ",
        "colab_type": "code",
        "colab": {}
      },
      "source": [
        ""
      ],
      "execution_count": 0,
      "outputs": []
    },
    {
      "cell_type": "code",
      "metadata": {
        "id": "pjEpKerF_pz2",
        "colab_type": "code",
        "colab": {
          "base_uri": "https://localhost:8080/",
          "height": 50
        },
        "outputId": "6d18e752-fa4e-49ba-a532-7285cd0bea69"
      },
      "source": [
        "# transform the validation dataset\n",
        "#rescaledX_test = scaler.fit_transform(X_test)\n",
        "predictions = model.predict(X_test)\n",
        "print(mean_squared_error(Y_test, predictions))\n",
        "\n",
        "root_mean_squared_error = np.sqrt(mean_squared_error(Y_test, predictions))\n",
        "print(root_mean_squared_error)"
      ],
      "execution_count": 34,
      "outputs": [
        {
          "output_type": "stream",
          "text": [
            "7578402.02672101\n",
            "2752.8897592749713\n"
          ],
          "name": "stdout"
        }
      ]
    },
    {
      "cell_type": "code",
      "metadata": {
        "id": "QxKINbj1FhLV",
        "colab_type": "code",
        "colab": {}
      },
      "source": [
        ""
      ],
      "execution_count": 0,
      "outputs": []
    }
  ]
}